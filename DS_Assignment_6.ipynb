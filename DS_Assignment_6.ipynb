{
  "nbformat": 4,
  "nbformat_minor": 0,
  "metadata": {
    "colab": {
      "provenance": []
    },
    "kernelspec": {
      "name": "python3",
      "display_name": "Python 3"
    },
    "language_info": {
      "name": "python"
    }
  },
  "cells": [
    {
      "cell_type": "code",
      "execution_count": 1,
      "metadata": {
        "id": "KLb25RNs9nll"
      },
      "outputs": [],
      "source": [
        "#Q1\n",
        "S = \"IDID\"\n",
        "class Solution:\n",
        "    def diStringMatch(self, S):\n",
        "        mini=0\n",
        "        maxi=len(S)\n",
        "        l=[]\n",
        "\n",
        "        for i in S:\n",
        "            if i==\"I\":\n",
        "                l.append(mini)\n",
        "                mini+=1\n",
        "            else:\n",
        "                l.append(maxi)\n",
        "                maxi-=1\n",
        "        return l+[maxi]"
      ]
    },
    {
      "cell_type": "code",
      "source": [
        "#Q2\n",
        "class Solution:\n",
        "    def searchMatrix(self, M,T):\n",
        "        y, i, j = len(M), 0, len(M[0]) - 1\n",
        "        while i < y and ~j:\n",
        "            cell = M[i][j]\n",
        "            if cell == T: return True\n",
        "            elif cell > T: j -= 1\n",
        "            else: i += 1\n",
        "        return False"
      ],
      "metadata": {
        "id": "KhAhlpgn-GUm"
      },
      "execution_count": 4,
      "outputs": []
    },
    {
      "cell_type": "code",
      "source": [
        "#Q5\n",
        "nums1 = [5,3,4,2]\n",
        "nums2 = [4,2,2,5]\n",
        "class Solution:\n",
        "    def minProductSum(self, nums1,nums2):\n",
        "        nums1.sort()\n",
        "        nums2.sort()\n",
        "        n, res = len(nums1), 0\n",
        "        for i in range(n):\n",
        "            res += nums1[i] * nums2[n - i - 1]\n",
        "        return res"
      ],
      "metadata": {
        "id": "YVceLtCH-K3n"
      },
      "execution_count": 7,
      "outputs": []
    },
    {
      "cell_type": "code",
      "source": [
        "#Q6\n",
        "changed = [1,3,4,2,6,8]\n",
        "class Solution:\n",
        "  def findOriginalArray(self, changed):\n",
        "    ans = []\n",
        "    q = collections.deque()\n",
        "\n",
        "    for num in sorted(changed):\n",
        "      if q and num == q[0]:\n",
        "        q.popleft()\n",
        "      else:\n",
        "        q.append(num * 2)\n",
        "        ans.append(num)\n",
        "\n",
        "    return [] if q else ans"
      ],
      "metadata": {
        "id": "ofDY_FBs_M7k"
      },
      "execution_count": 9,
      "outputs": []
    },
    {
      "cell_type": "code",
      "source": [
        "class Solution:\n",
        "    def multiply(self, mat1,mat2):\n",
        "        r1, c1, c2 = len(mat1), len(mat1[0]), len(mat2[0])\n",
        "        res = [[0] * c2 for _ in range(r1)]\n",
        "        mp = defaultdict(list)\n",
        "        for i in range(r1):\n",
        "            for j in range(c1):\n",
        "                if mat1[i][j] != 0:\n",
        "                    mp[i].append(j)\n",
        "        for i in range(r1):\n",
        "            for j in range(c2):\n",
        "                for k in mp[i]:\n",
        "                    res[i][j] += mat1[i][k] * mat2[k][j]\n",
        "        return res\n",
        "\n",
        "\n",
        "\n",
        "class Solution(object):\n",
        "  def multiply(self, A, B):\n",
        "\n",
        "    ret = [[0 for j in range(len(B[0]))] for i in range(len(A))]\n",
        "\n",
        "    for i, row in enumerate(A):\n",
        "      for k, a in enumerate(row):\n",
        "        if a:\n",
        "          for j, b in enumerate(B[k]):\n",
        "            if b:\n",
        "              ret[i][j] += a * b\n",
        "    return ret"
      ],
      "metadata": {
        "id": "8taIbDet-jFW"
      },
      "execution_count": 10,
      "outputs": []
    },
    {
      "cell_type": "code",
      "source": [],
      "metadata": {
        "id": "YYpG-i0M_fWr"
      },
      "execution_count": null,
      "outputs": []
    }
  ]
}